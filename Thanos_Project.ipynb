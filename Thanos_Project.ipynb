{
 "cells": [
  {
   "cell_type": "code",
   "execution_count": 1,
   "id": "bcd5bad3",
   "metadata": {},
   "outputs": [],
   "source": [
    "import os \n",
    "from random import sample\n",
    "import shutil\n",
    "import time\n",
    "img = []\n",
    "\n",
    "def imagname () :\n",
    "    file_list = os.listdir(\"universe\")\n",
    "    img.extend(file_list)\n",
    "    print(img)\n",
    "    print(len(img))\n",
    "    print(\"half population is: \",len(img)/2) #2- half population = ??"
   ]
  },
  {
   "cell_type": "code",
   "execution_count": 2,
   "id": "13cda47f",
   "metadata": {
    "scrolled": true
   },
   "outputs": [
    {
     "name": "stdout",
     "output_type": "stream",
     "text": [
      "['cover001.png', 'cover002.png', 'cover003.png', 'cover004.png', 'cover005.png', 'cover006.png', 'cover007.png', 'cover008.png', 'cover009.png', 'cover010.png', 'cover011.png', 'cover012.png', 'cover013.png', 'cover014.png', 'cover015.png', 'cover016.png', 'cover017.png', 'cover018.png', 'cover019.png', 'cover020.png', 'cover021.png', 'cover022.png', 'cover023.png', 'cover024.png', 'cover025.png', 'cover026.png', 'cover027.png', 'cover028.png', 'cover029.png', 'cover030.png', 'cover031.png', 'cover032.png', 'cover033.png', 'cover034.png', 'cover035.png', 'cover036.png', 'cover037.png', 'cover038.png', 'cover039.png', 'cover040.png', 'cover041.png', 'cover042.png', 'cover043.png', 'cover044.png', 'cover045.png', 'cover046.png', 'cover047.png', 'cover048.png', 'cover049.png', 'cover050.png']\n",
      "50\n",
      "half population is:  25.0\n"
     ]
    }
   ],
   "source": [
    "imglist = imagname() #1- function return list of image names "
   ]
  },
  {
   "cell_type": "code",
   "execution_count": 3,
   "id": "d128b427",
   "metadata": {},
   "outputs": [],
   "source": [
    "population = img.copy() #take a shallow copy from the main list \n"
   ]
  },
  {
   "cell_type": "code",
   "execution_count": 4,
   "id": "876427c6",
   "metadata": {},
   "outputs": [
    {
     "name": "stdout",
     "output_type": "stream",
     "text": [
      "F:\\Epsilon_AI\\Session_7\\Project_1\n",
      "F:\\Epsilon_AI\\Session_7\\Project_1\\universe\n"
     ]
    }
   ],
   "source": [
    "print(os.getcwd())\n",
    "os.chdir(r\"universe\")\n",
    "print(os.getcwd())\n"
   ]
  },
  {
   "cell_type": "code",
   "execution_count": 5,
   "id": "25fa63e8",
   "metadata": {},
   "outputs": [
    {
     "name": "stdout",
     "output_type": "stream",
     "text": [
      "25 prepared to kill!!\n",
      "please wait...\n",
      "Done kill cover048.png\n",
      "please wait...\n",
      "Done kill cover040.png\n",
      "please wait...\n",
      "Done kill cover044.png\n",
      "please wait...\n",
      "Done kill cover014.png\n",
      "please wait...\n",
      "Done kill cover016.png\n",
      "please wait...\n",
      "Done kill cover043.png\n",
      "please wait...\n",
      "Done kill cover036.png\n",
      "please wait...\n",
      "Done kill cover038.png\n",
      "please wait...\n",
      "Done kill cover049.png\n",
      "please wait...\n",
      "Done kill cover042.png\n",
      "please wait...\n",
      "Done kill cover025.png\n",
      "please wait...\n",
      "Done kill cover034.png\n",
      "please wait...\n",
      "Done kill cover011.png\n",
      "please wait...\n",
      "Done kill cover007.png\n",
      "please wait...\n",
      "Done kill cover033.png\n",
      "please wait...\n",
      "Done kill cover045.png\n",
      "please wait...\n",
      "Done kill cover021.png\n",
      "please wait...\n",
      "Done kill cover027.png\n",
      "please wait...\n",
      "Done kill cover004.png\n",
      "please wait...\n",
      "Done kill cover047.png\n",
      "please wait...\n",
      "Done kill cover017.png\n",
      "please wait...\n",
      "Done kill cover035.png\n",
      "please wait...\n",
      "Done kill cover008.png\n",
      "please wait...\n",
      "Done kill cover029.png\n",
      "please wait...\n",
      "Done kill cover031.png\n",
      "Done Kill 25\n"
     ]
    }
   ],
   "source": [
    "def kill_half (population): #3- function to kill half population rondamly \n",
    "    n = int(len(population)/2)\n",
    "    Rand_population = sample(population,n if n>1 else 1)\n",
    "    \n",
    "    print(f\"{n if n>1 else 1} prepared to kill!!\")\n",
    "    for i in Rand_population:\n",
    "        os.remove(i)\n",
    "        print(f\"please wait...\")\n",
    "        time.sleep(1)   \n",
    "        print(f\"Done kill {i}\")\n",
    "        time.sleep(1)\n",
    "    print(f\"Done Kill {n if n>1 else 1}\") #print after each 2 seconds done kill (image name)\n",
    "    for i in Rand_population:\n",
    "         population.remove(i)\n",
    "    Rand_population.clear()    \n",
    "kill_half(population) #function calling"
   ]
  },
  {
   "cell_type": "code",
   "execution_count": 6,
   "id": "60c9aa00",
   "metadata": {},
   "outputs": [
    {
     "name": "stdout",
     "output_type": "stream",
     "text": [
      "12 prepared to kill!!\n",
      "please wait...\n",
      "Done kill cover023.png\n",
      "please wait...\n",
      "Done kill cover001.png\n",
      "please wait...\n",
      "Done kill cover037.png\n",
      "please wait...\n",
      "Done kill cover030.png\n",
      "please wait...\n",
      "Done kill cover005.png\n",
      "please wait...\n",
      "Done kill cover028.png\n",
      "please wait...\n",
      "Done kill cover050.png\n",
      "please wait...\n",
      "Done kill cover018.png\n",
      "please wait...\n",
      "Done kill cover039.png\n",
      "please wait...\n",
      "Done kill cover046.png\n",
      "please wait...\n",
      "Done kill cover032.png\n",
      "please wait...\n",
      "Done kill cover006.png\n",
      "Done Kill 12\n"
     ]
    }
   ],
   "source": [
    "kill_half(population)"
   ]
  },
  {
   "cell_type": "code",
   "execution_count": 7,
   "id": "2f587369",
   "metadata": {},
   "outputs": [
    {
     "name": "stdout",
     "output_type": "stream",
     "text": [
      "6 prepared to kill!!\n",
      "please wait...\n",
      "Done kill cover009.png\n",
      "please wait...\n",
      "Done kill cover002.png\n",
      "please wait...\n",
      "Done kill cover024.png\n",
      "please wait...\n",
      "Done kill cover020.png\n",
      "please wait...\n",
      "Done kill cover003.png\n",
      "please wait...\n",
      "Done kill cover010.png\n",
      "Done Kill 6\n"
     ]
    }
   ],
   "source": [
    "kill_half(population)"
   ]
  },
  {
   "cell_type": "code",
   "execution_count": 8,
   "id": "a6c5f774",
   "metadata": {},
   "outputs": [
    {
     "name": "stdout",
     "output_type": "stream",
     "text": [
      "3 prepared to kill!!\n",
      "please wait...\n",
      "Done kill cover012.png\n",
      "please wait...\n",
      "Done kill cover041.png\n",
      "please wait...\n",
      "Done kill cover026.png\n",
      "Done Kill 3\n"
     ]
    }
   ],
   "source": [
    "kill_half(population)"
   ]
  },
  {
   "cell_type": "code",
   "execution_count": 9,
   "id": "ec519931",
   "metadata": {},
   "outputs": [
    {
     "name": "stdout",
     "output_type": "stream",
     "text": [
      "2 prepared to kill!!\n",
      "please wait...\n",
      "Done kill cover019.png\n",
      "please wait...\n",
      "Done kill cover022.png\n",
      "Done Kill 2\n"
     ]
    }
   ],
   "source": [
    "kill_half(population)"
   ]
  },
  {
   "cell_type": "code",
   "execution_count": 10,
   "id": "cfe4b815",
   "metadata": {},
   "outputs": [
    {
     "name": "stdout",
     "output_type": "stream",
     "text": [
      "1 prepared to kill!!\n",
      "please wait...\n",
      "Done kill cover013.png\n",
      "Done Kill 1\n"
     ]
    }
   ],
   "source": [
    "kill_half(population)"
   ]
  },
  {
   "cell_type": "code",
   "execution_count": 11,
   "id": "147ed981",
   "metadata": {},
   "outputs": [
    {
     "name": "stdout",
     "output_type": "stream",
     "text": [
      "1 prepared to kill!!\n",
      "please wait...\n",
      "Done kill cover015.png\n",
      "Done Kill 1\n"
     ]
    }
   ],
   "source": [
    "kill_half(population)"
   ]
  },
  {
   "cell_type": "code",
   "execution_count": 12,
   "id": "b7bcd098",
   "metadata": {},
   "outputs": [
    {
     "data": {
      "text/plain": [
       "'F:\\\\Epsilon_AI\\\\Session_7\\\\Project_1\\\\backup'"
      ]
     },
     "execution_count": 12,
     "metadata": {},
     "output_type": "execute_result"
    }
   ],
   "source": [
    "os.chdir(r\"../backup\")\n",
    "os.getcwd()"
   ]
  },
  {
   "cell_type": "code",
   "execution_count": 13,
   "id": "9159c311",
   "metadata": {},
   "outputs": [],
   "source": [
    "def import_(): #4- function to copy images from backup folder to universe \n",
    "\n",
    "    for i in img:\n",
    "        shutil.copy(str(i),r\"../universe\")\n",
    "import_()"
   ]
  },
  {
   "cell_type": "code",
   "execution_count": 14,
   "id": "eeaac77d",
   "metadata": {},
   "outputs": [],
   "source": [
    "os.chdir(\"..\")\n",
    "os.mkdir(\"New_Folder\")   #5- Extra point "
   ]
  },
  {
   "cell_type": "code",
   "execution_count": 15,
   "id": "0f9422c7",
   "metadata": {},
   "outputs": [],
   "source": [
    "os.chdir(\"backup\")\n",
    "os.getcwd()\n",
    "\n",
    "for i in img:\n",
    "    shutil.copy(str(i),r\"../New_Folder/\")\n",
    "os.chdir(r\"../New_Folder\")"
   ]
  },
  {
   "cell_type": "code",
   "execution_count": 16,
   "id": "5a1fcf4b",
   "metadata": {},
   "outputs": [],
   "source": [
    "rnum = sample(list(range(1,51)),50)\n",
    "for i,r in zip(img,rnum):\n",
    "    os.rename(i,f\"New_name{r}.png\")"
   ]
  },
  {
   "cell_type": "code",
   "execution_count": null,
   "id": "fe30c42a",
   "metadata": {},
   "outputs": [],
   "source": []
  }
 ],
 "metadata": {
  "kernelspec": {
   "display_name": "Python 3 (ipykernel)",
   "language": "python",
   "name": "python3"
  },
  "language_info": {
   "codemirror_mode": {
    "name": "ipython",
    "version": 3
   },
   "file_extension": ".py",
   "mimetype": "text/x-python",
   "name": "python",
   "nbconvert_exporter": "python",
   "pygments_lexer": "ipython3",
   "version": "3.10.2"
  }
 },
 "nbformat": 4,
 "nbformat_minor": 5
}
